{
 "cells": [
  {
   "cell_type": "code",
   "execution_count": 1,
   "metadata": {},
   "outputs": [
    {
     "name": "stdout",
     "output_type": "stream",
     "text": [
      "env: THEANO_FLAGS=device=gpu0\n",
      "env: THEANO_FLAGS='floatX=float32'\n",
      "bash: ../xvfb: No such file or directory\n",
      "env: DISPLAY=:1\n"
     ]
    }
   ],
   "source": [
    "%env THEANO_FLAGS=device=gpu0\n",
    "%env THEANO_FLAGS='floatX=float32'\n",
    "import os\n",
    "if type(os.environ.get(\"DISPLAY\")) is not str or len(os.environ.get(\"DISPLAY\"))==0:\n",
    "    !bash ../xvfb start\n",
    "    %env DISPLAY=:1\n",
    "        \n",
    "import numpy as np\n",
    "import matplotlib.pyplot as plt\n",
    "%matplotlib inline\n"
   ]
  },
  {
   "cell_type": "code",
   "execution_count": 2,
   "metadata": {},
   "outputs": [
    {
     "name": "stdout",
     "output_type": "stream",
     "text": [
      "[ 0.00245766 -0.00692379  0.00638609  0.01958699 -0.29070678 -0.71052462\n",
      "  1.47233391  0.99359345  1.          0.30071586 -0.01757671  0.16331172\n",
      "  0.33354759  1.          0.45289594  0.45803925  0.47406957  0.50296789\n",
      "  0.54874158  0.61897343  0.72858536  0.91021365  1.          1.        ]\n"
     ]
    }
   ],
   "source": [
    "import gym\n",
    "\n",
    "env = gym.make(\"BipedalWalker-v2\").env\n",
    "obs = env.step(env.action_space.sample())[0]\n",
    "state_size = len(obs)\n",
    "n_actions = env.action_space.shape[0]\n",
    "print(obs)"
   ]
  },
  {
   "cell_type": "markdown",
   "metadata": {},
   "source": [
    "### Архитектура сети"
   ]
  },
  {
   "cell_type": "code",
   "execution_count": 3,
   "metadata": {},
   "outputs": [
    {
     "name": "stderr",
     "output_type": "stream",
     "text": [
      "Using cuDNN version 5110 on context None\n",
      "Mapped name None to device cuda0: Tesla K80 (0000:00:04.0)\n"
     ]
    }
   ],
   "source": [
    "import lasagne\n",
    "from lasagne.layers import InputLayer, DenseLayer, NonlinearityLayer, batch_norm,dropout,GaussianNoiseLayer\n",
    "import theano.tensor as T\n",
    "\n",
    "observation_layer = InputLayer((None,state_size))\n",
    "dense0 = DenseLayer(observation_layer,256,name='dense1')\n",
    "dense1 = DenseLayer(dense0,256,name='dense2',nonlinearity=T.tanh,)\n",
    "nn = dense1"
   ]
  },
  {
   "cell_type": "code",
   "execution_count": 4,
   "metadata": {
    "collapsed": true
   },
   "outputs": [],
   "source": [
    "from lasagne.nonlinearities import elu\n",
    "\n",
    "policy_layer = DenseLayer(nn, n_actions, nonlinearity=elu)\n",
    "V_layer = DenseLayer(nn, 1, nonlinearity=None)"
   ]
  },
  {
   "cell_type": "code",
   "execution_count": 5,
   "metadata": {
    "collapsed": true
   },
   "outputs": [],
   "source": [
    "from agentnet.resolver import ProbabilisticResolver\n",
    "from lasagne.layers import InputLayer,DenseLayer,batch_norm,dropout,NonlinearityLayer,,ElemwiseSumLayer\n",
    "from agentnet.learning.qlearning_naf import LowerTriangularLayer,NAFLayer\n",
    "import theano\n",
    "\n",
    "epsilon = theano.shared(np.float32(0.0))\n",
    "low = env.action_space.low\n",
    "high = env.action_space.high\n",
    "\n",
    "# Пространство action непрерывное, поэтому будем использовать low и high\n",
    "action = NonlinearityLayer(policy_layer,lambda a: a.clip(low,high))\n",
    "action = GaussianNoiseLayer(action,sigma=epsilon)\n",
    "action_layer = NonlinearityLayer(action,lambda a: a.clip(low,high))"
   ]
  },
  {
   "cell_type": "markdown",
   "metadata": {},
   "source": [
    "### Агент"
   ]
  },
  {
   "cell_type": "code",
   "execution_count": 6,
   "metadata": {
    "collapsed": true
   },
   "outputs": [],
   "source": [
    "from agentnet.agent import Agent\n",
    "\n",
    "agent = Agent(observation_layers=observation_layer,\n",
    "              policy_estimators=(policy_layer,V_layer),\n",
    "              action_layers=action_layer)"
   ]
  },
  {
   "cell_type": "code",
   "execution_count": 7,
   "metadata": {},
   "outputs": [
    {
     "data": {
      "text/plain": [
       "[dense1.W, dense1.b, dense2.W, dense2.b, W, b, W, b]"
      ]
     },
     "execution_count": 7,
     "metadata": {},
     "output_type": "execute_result"
    }
   ],
   "source": [
    "weights = lasagne.layers.get_all_params((action_layer,V_layer),trainable=True)\n",
    "weights"
   ]
  },
  {
   "cell_type": "markdown",
   "metadata": {},
   "source": [
    "### Pool"
   ]
  },
  {
   "cell_type": "code",
   "execution_count": 8,
   "metadata": {
    "collapsed": true
   },
   "outputs": [],
   "source": [
    "from gym.wrappers.time_limit import TimeLimit\n",
    "\n",
    "class env_wrapper(object):\n",
    "    def __init__(self, name, t_max):\n",
    "        self.name = name\n",
    "        self.t_max = t_max\n",
    "    def __call__(self):\n",
    "        env = gym.make(self.name).env\n",
    "        env = TimeLimit(env, max_episode_steps=self.t_max)\n",
    "        return env"
   ]
  },
  {
   "cell_type": "code",
   "execution_count": 9,
   "metadata": {
    "collapsed": true
   },
   "outputs": [],
   "source": [
    "from agentnet.experiments.openai_gym.pool import EnvPool\n",
    "\n",
    "pool = EnvPool(agent,make_env=env_wrapper(\"BipedalWalker-v2\", 10000), n_games=70,max_size=1000) "
   ]
  },
  {
   "cell_type": "code",
   "execution_count": 11,
   "metadata": {
    "collapsed": true
   },
   "outputs": [],
   "source": [
    "SEQ_LENGTH = 10\n",
    "pool.update(SEQ_LENGTH)"
   ]
  },
  {
   "cell_type": "markdown",
   "metadata": {},
   "source": [
    "### Actor-critic"
   ]
  },
  {
   "cell_type": "code",
   "execution_count": 12,
   "metadata": {
    "collapsed": true
   },
   "outputs": [],
   "source": [
    "replay = pool.experience_replay.sample_session_batch(100)\n",
    "\n",
    "_,_,_,_,(policy_seq,V_seq) = agent.get_sessions(\n",
    "    replay,\n",
    "    session_length=SEQ_LENGTH,\n",
    "    experience_replay=True,\n",
    ")"
   ]
  },
  {
   "cell_type": "code",
   "execution_count": 13,
   "metadata": {
    "collapsed": true
   },
   "outputs": [],
   "source": [
    "from agentnet.learning import a2c                                                   \n",
    "\n",
    "elwise_mse_loss = a2c.get_elementwise_objective(policy_seq[:,:,0],\n",
    "                                                V_seq[:,:,0],\n",
    "                                                replay.rewards,\n",
    "                                                replay.is_alive,\n",
    "                                                gamma_or_gammas=0.95,\n",
    "                                                n_steps=1)\n",
    "\n",
    "loss = elwise_mse_loss.sum() / replay.is_alive.sum()\n",
    "# Регуляризация\n",
    "loss += lasagne.regularization.regularize_network_params(nn,lasagne.regularization.l2)*1e-5"
   ]
  },
  {
   "cell_type": "code",
   "execution_count": 15,
   "metadata": {
    "collapsed": true
   },
   "outputs": [],
   "source": [
    "updates = lasagne.updates.rmsprop(loss, weights, learning_rate=10e-5)"
   ]
  },
  {
   "cell_type": "code",
   "execution_count": 16,
   "metadata": {
    "collapsed": true
   },
   "outputs": [],
   "source": [
    "import theano\n",
    "train_step = theano.function([],loss,updates=updates)"
   ]
  },
  {
   "cell_type": "markdown",
   "metadata": {},
   "source": [
    "### Train loop"
   ]
  },
  {
   "cell_type": "code",
   "execution_count": 18,
   "metadata": {
    "collapsed": true
   },
   "outputs": [],
   "source": [
    "epoch_counter = 1\n",
    "rewards = {}"
   ]
  },
  {
   "cell_type": "code",
   "execution_count": 19,
   "metadata": {
    "collapsed": true
   },
   "outputs": [],
   "source": [
    "from IPython.display import clear_output"
   ]
  },
  {
   "cell_type": "code",
   "execution_count": 25,
   "metadata": {},
   "outputs": [
    {
     "name": "stdout",
     "output_type": "stream",
     "text": [
      "\n"
     ]
    }
   ],
   "source": [
    "loss = 0\n",
    "for i in range(100000):    \n",
    "    \n",
    "    pool.update(SEQ_LENGTH,append=True)\n",
    "    \n",
    "    loss = loss*0.99 + train_step()*0.01\n",
    "        \n",
    "    if epoch_counter%100==0:\n",
    "        pool_mean_reward = np.average(pool.experience_replay.rewards.get_value()[:,:-1],\n",
    "                                      weights=1+pool.experience_replay.is_alive.get_value()[:,:-1])\n",
    "        print(\"iter=%i\\treward/step=%.5f\\tloss ma=%.5f\"%(epoch_counter,\n",
    "                                                        pool_mean_reward,\n",
    "                                                        loss))\n",
    "        \n",
    "    if epoch_counter%500 ==0:\n",
    "        clear_output(True)\n",
    "\n",
    "        n_games = 10\n",
    "        rewards[epoch_counter] = pool.evaluate( record_video=False,n_games=n_games,\n",
    "                                               verbose=False)\n",
    "        iters,session_rewards=zip(*sorted(rewards.items(),key=lambda k:k))\n",
    "        mean_rewards = [np.mean(x) for x in session_rewards]\n",
    "        plt.figure(figsize=(12, 8))\n",
    "        plt.plot(iters, mean_rewards)\n",
    "        plt.show()\n",
    "        if np.mean(rewards[epoch_counter]) > 290:\n",
    "            break\n",
    "        print(\"Current score(mean over %i) = %.3f\"%(n_games,np.mean(rewards[epoch_counter])))\n",
    "        \n",
    "    if i % 100 == 0:\n",
    "        print(i)\n",
    "    \n",
    "    epoch_counter +=1"
   ]
  }
 ],
 "metadata": {
  "kernelspec": {
   "display_name": "Python 3",
   "language": "python",
   "name": "python3"
  },
  "language_info": {
   "codemirror_mode": {
    "name": "ipython",
    "version": 3
   },
   "file_extension": ".py",
   "mimetype": "text/x-python",
   "name": "python",
   "nbconvert_exporter": "python",
   "pygments_lexer": "ipython3",
   "version": "3.6.3"
  }
 },
 "nbformat": 4,
 "nbformat_minor": 1
}
