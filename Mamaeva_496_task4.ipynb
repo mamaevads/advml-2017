{
 "cells": [
  {
   "cell_type": "code",
   "execution_count": 32,
   "metadata": {},
   "outputs": [],
   "source": [
    "import gym\n",
    "import numpy as np"
   ]
  },
  {
   "cell_type": "code",
   "execution_count": 33,
   "metadata": {},
   "outputs": [
    {
     "name": "stdout",
     "output_type": "stream",
     "text": [
      "initial observation code: 184\n",
      "+---------+\n",
      "|\u001b[35mR\u001b[0m: | : :\u001b[34;1mG\u001b[0m|\n",
      "| : : : :\u001b[43m \u001b[0m|\n",
      "| : : : : |\n",
      "| | : | : |\n",
      "|Y| : |B: |\n",
      "+---------+\n",
      "\n"
     ]
    }
   ],
   "source": [
    "env = gym.make(\"Taxi-v2\")\n",
    "print(\"initial observation code:\", env.reset())\n",
    "env.render()\n",
    "n_states = env.observation_space.n\n",
    "n_actions = env.action_space.n"
   ]
  },
  {
   "cell_type": "code",
   "execution_count": 34,
   "metadata": {
    "collapsed": true
   },
   "outputs": [],
   "source": [
    "action_to_i = {\n",
    "    'south': 0,\n",
    "    'north': 1,\n",
    "    'east': 2,\n",
    "    'west': 3,\n",
    "    'pickup': 4,\n",
    "    'dropoff': 5,\n",
    "}"
   ]
  },
  {
   "cell_type": "code",
   "execution_count": 35,
   "metadata": {},
   "outputs": [
    {
     "name": "stdout",
     "output_type": "stream",
     "text": [
      "+---------+\n",
      "|\u001b[35mR\u001b[0m: | : :\u001b[34;1mG\u001b[0m|\n",
      "| : : : : |\n",
      "| : : : :\u001b[43m \u001b[0m|\n",
      "| | : | : |\n",
      "|Y| : |B: |\n",
      "+---------+\n",
      "  (South)\n"
     ]
    }
   ],
   "source": [
    "env.step(action_to_i['south'])\n",
    "env.render()"
   ]
  },
  {
   "cell_type": "code",
   "execution_count": 36,
   "metadata": {
    "collapsed": true
   },
   "outputs": [],
   "source": [
    "def sample_reward(env, policy, t_max=52):\n",
    "    \"\"\"\n",
    "    Interact with an environment, return sum of all rewards.\n",
    "    If game doesn't end on t_max (e.g. agent walks into a wall), \n",
    "    force end the game and return whatever reward you got so far.\n",
    "    Tip: see signature of env.step(...) method above.\n",
    "    \"\"\"\n",
    "    s = env.reset()\n",
    "    total_reward = 0\n",
    "    \n",
    "    for _ in range(t_max):\n",
    "        s, reward, is_done, _ = env.step(policy[s])\n",
    "        total_reward += reward\n",
    "        if reward == 20:\n",
    "            break\n",
    "    return total_reward"
   ]
  },
  {
   "cell_type": "markdown",
   "metadata": {},
   "source": [
    "## Genetic algorithm"
   ]
  },
  {
   "cell_type": "code",
   "execution_count": 37,
   "metadata": {},
   "outputs": [],
   "source": [
    "def crossover(policy1, policy2, p=0.5):\n",
    "    \"\"\"\n",
    "    for each state, with probability p take action from policy1, else policy2\n",
    "    \"\"\"\n",
    "    choice = np.random.binomial(1, [p], size=len(policy1))\n",
    "    return np.array([policy1[i] if choice[i] else policy2[i] for i in range(len(policy1))])"
   ]
  },
  {
   "cell_type": "code",
   "execution_count": 38,
   "metadata": {
    "collapsed": true
   },
   "outputs": [],
   "source": [
    "def get_random_policy():\n",
    "    return np.random.choice(n_actions, size=n_states)"
   ]
  },
  {
   "cell_type": "code",
   "execution_count": 39,
   "metadata": {
    "collapsed": true
   },
   "outputs": [],
   "source": [
    "def mutation(policy, p=0.1):\n",
    "    \"\"\"\n",
    "    for each state, with probability p replace action with random action\n",
    "    Tip: mutation can be written as crossover with random policy\n",
    "    \"\"\"\n",
    "    return crossover(get_random_policy(), policy, p)  \n",
    "    "
   ]
  },
  {
   "cell_type": "code",
   "execution_count": 40,
   "metadata": {},
   "outputs": [
    {
     "name": "stdout",
     "output_type": "stream",
     "text": [
      "Seems fine!\n"
     ]
    }
   ],
   "source": [
    "np.random.seed(1234)\n",
    "policies = [crossover(get_random_policy(), get_random_policy()) \n",
    "            for i in range(10**4)]\n",
    "\n",
    "assert all([len(p) == n_states for p in policies]), 'policy length should always be 16'\n",
    "assert np.min(policies) == 0, 'minimal action id should be 0'\n",
    "assert np.max(policies) == n_actions-1, 'maximal action id should be n_actions-1'\n",
    "\n",
    "assert any([np.mean(crossover(np.zeros(n_states), np.ones(n_states))) not in (0, 1)\n",
    "               for _ in range(100)]), \"Make sure your crossover changes each action independently\"\n",
    "print(\"Seems fine!\")"
   ]
  },
  {
   "cell_type": "code",
   "execution_count": 41,
   "metadata": {},
   "outputs": [],
   "source": [
    "n_epochs = 100  # how many cycles to make\n",
    "pool_size = 20  # how many policies to maintain\n",
    "n_crossovers = 50  # how many crossovers to make on each step\n",
    "n_mutations = 50  # how many mutations to make on each tick"
   ]
  },
  {
   "cell_type": "code",
   "execution_count": 42,
   "metadata": {
    "collapsed": true
   },
   "outputs": [],
   "source": [
    "def evaluate(policy, n_times=150):\n",
    "    \"\"\"Run several evaluations and average the score the policy gets.\"\"\"\n",
    "    rewards = [sample_reward(env, policy) for _ in range(n_times)]\n",
    "    return float(np.mean(rewards))\n",
    "        "
   ]
  },
  {
   "cell_type": "code",
   "execution_count": 43,
   "metadata": {},
   "outputs": [
    {
     "name": "stdout",
     "output_type": "stream",
     "text": [
      "initializing...\n"
     ]
    }
   ],
   "source": [
    "print(\"initializing...\")\n",
    "pool = [get_random_policy() for _ in range(pool_size)]\n",
    "pool_scores = [evaluate(policy) for policy in pool]\n"
   ]
  },
  {
   "cell_type": "code",
   "execution_count": 44,
   "metadata": {
    "collapsed": true
   },
   "outputs": [],
   "source": [
    "assert type(pool) == type(pool_scores) == list\n",
    "assert len(pool) == len(pool_scores) == pool_size\n",
    "assert all([type(score) in (float, int) for score in pool_scores])\n"
   ]
  },
  {
   "cell_type": "code",
   "execution_count": 45,
   "metadata": {
    "scrolled": false
   },
   "outputs": [
    {
     "name": "stdout",
     "output_type": "stream",
     "text": [
      "Epoch 0:\n",
      "best score: -248.62\n",
      "Epoch 1:\n",
      "best score: -215.74\n",
      "Epoch 2:\n",
      "best score: -235.0\n",
      "Epoch 3:\n",
      "best score: -206.02\n",
      "Epoch 4:\n",
      "best score: -200.14\n",
      "Epoch 5:\n",
      "best score: -188.08\n",
      "Epoch 6:\n",
      "best score: -188.14\n",
      "Epoch 7:\n",
      "best score: -188.2\n",
      "Epoch 8:\n",
      "best score: -163.36\n",
      "Epoch 9:\n",
      "best score: -160.18\n",
      "Epoch 10:\n",
      "best score: -163.48\n",
      "Epoch 11:\n",
      "best score: -144.4\n",
      "Epoch 12:\n",
      "best score: -141.7\n",
      "Epoch 13:\n",
      "best score: -131.74\n",
      "Epoch 14:\n",
      "best score: -132.34\n",
      "Epoch 15:\n",
      "best score: -110.98\n",
      "Epoch 16:\n",
      "best score: -114.16\n",
      "Epoch 17:\n",
      "best score: -111.16\n",
      "Epoch 18:\n",
      "best score: -101.68\n",
      "Epoch 19:\n",
      "best score: -122.98\n",
      "Epoch 20:\n",
      "best score: -107.74\n",
      "Epoch 21:\n",
      "best score: -95.38\n",
      "Epoch 22:\n",
      "best score: -95.5\n",
      "Epoch 23:\n",
      "best score: -92.5\n",
      "Epoch 24:\n",
      "best score: -92.2\n",
      "Epoch 25:\n",
      "best score: -95.68\n",
      "Epoch 26:\n",
      "best score: -89.32\n",
      "Epoch 27:\n",
      "best score: -85.84\n",
      "Epoch 28:\n",
      "best score: -85.96\n",
      "Epoch 29:\n",
      "best score: -92.5\n",
      "Epoch 30:\n",
      "best score: -83.08\n",
      "Epoch 31:\n",
      "best score: -80.02\n",
      "Epoch 32:\n",
      "best score: -79.9\n",
      "Epoch 33:\n",
      "best score: -79.96\n",
      "Epoch 34:\n",
      "best score: -73.78\n",
      "Epoch 35:\n",
      "best score: -67.6\n",
      "Epoch 36:\n",
      "best score: -73.72\n",
      "Epoch 37:\n",
      "best score: -61.3\n",
      "Epoch 38:\n",
      "best score: -67.54\n",
      "Epoch 39:\n",
      "best score: -73.66\n",
      "Epoch 40:\n",
      "best score: -67.48\n",
      "Epoch 41:\n",
      "best score: -61.36\n",
      "Epoch 42:\n",
      "best score: -73.72\n",
      "Epoch 43:\n",
      "best score: -61.3\n",
      "Epoch 44:\n",
      "best score: -67.54\n",
      "Epoch 45:\n",
      "best score: -64.48\n",
      "Epoch 46:\n",
      "best score: -67.54\n",
      "Epoch 47:\n",
      "best score: -67.48\n",
      "Epoch 48:\n",
      "best score: -64.48\n",
      "Epoch 49:\n",
      "best score: -64.42\n",
      "Epoch 50:\n",
      "best score: -64.48\n",
      "Epoch 51:\n",
      "best score: -61.36\n",
      "Epoch 52:\n",
      "best score: -64.48\n",
      "Epoch 53:\n",
      "best score: -64.48\n",
      "Epoch 54:\n",
      "best score: -64.42\n",
      "Epoch 55:\n",
      "best score: -61.36\n",
      "Epoch 56:\n",
      "best score: -64.42\n",
      "Epoch 57:\n",
      "best score: -61.36\n",
      "Epoch 58:\n",
      "best score: -64.42\n",
      "Epoch 59:\n",
      "best score: -67.42\n",
      "Epoch 60:\n",
      "best score: -58.24\n",
      "Epoch 61:\n",
      "best score: -61.36\n",
      "Epoch 62:\n",
      "best score: -67.54\n",
      "Epoch 63:\n",
      "best score: -64.48\n",
      "Epoch 64:\n",
      "best score: -58.18\n",
      "Epoch 65:\n",
      "best score: -64.42\n",
      "Epoch 66:\n",
      "best score: -61.36\n",
      "Epoch 67:\n",
      "best score: -64.36\n",
      "Epoch 68:\n",
      "best score: -64.48\n",
      "Epoch 69:\n",
      "best score: -67.54\n",
      "Epoch 70:\n",
      "best score: -67.6\n",
      "Epoch 71:\n",
      "best score: -61.36\n",
      "Epoch 72:\n",
      "best score: -58.24\n",
      "Epoch 73:\n",
      "best score: -58.18\n",
      "Epoch 74:\n",
      "best score: -61.3\n",
      "Epoch 75:\n",
      "best score: -61.36\n",
      "Epoch 76:\n",
      "best score: -61.3\n",
      "Epoch 77:\n",
      "best score: -61.3\n",
      "Epoch 78:\n",
      "best score: -58.18\n",
      "Epoch 79:\n",
      "best score: -64.48\n",
      "Epoch 80:\n",
      "best score: -67.54\n",
      "Epoch 81:\n",
      "best score: -61.3\n",
      "Epoch 82:\n",
      "best score: -61.3\n",
      "Epoch 83:\n",
      "best score: -64.48\n",
      "Epoch 84:\n",
      "best score: -58.24\n",
      "Epoch 85:\n",
      "best score: -61.36\n",
      "Epoch 86:\n",
      "best score: -58.18\n",
      "Epoch 87:\n",
      "best score: -58.24\n",
      "Epoch 88:\n",
      "best score: -61.36\n",
      "Epoch 89:\n",
      "best score: -61.36\n",
      "Epoch 90:\n",
      "best score: -61.3\n",
      "Epoch 91:\n",
      "best score: -61.36\n",
      "Epoch 92:\n",
      "best score: -61.3\n",
      "Epoch 93:\n",
      "best score: -61.3\n",
      "Epoch 94:\n",
      "best score: -58.18\n",
      "Epoch 95:\n",
      "best score: -61.36\n",
      "Epoch 96:\n",
      "best score: -64.36\n",
      "Epoch 97:\n",
      "best score: -61.36\n",
      "Epoch 98:\n",
      "best score: -67.6\n",
      "Epoch 99:\n",
      "best score: -64.42\n"
     ]
    }
   ],
   "source": [
    "#main loop\n",
    "for epoch in range(n_epochs):\n",
    "    print(\"Epoch %s:\"%epoch)\n",
    "    \n",
    "    crossovered = [crossover(pool[p1], pool[p2]) \n",
    "                   for p1, p2 in zip(np.random.choice(len(pool), size=n_crossovers), \n",
    "                                     np.random.choice(len(pool), size=n_crossovers))]\n",
    "    mutated = [mutation(pool[p]) for p in np.random.choice(len(pool), size=n_mutations)]\n",
    "    \n",
    "    assert type(crossovered) == type(mutated) == list\n",
    "    \n",
    "    #add new policies to the pool\n",
    "    pool.extend(crossovered)\n",
    "    pool.extend(mutated)\n",
    "    pool_scores = [evaluate(p) for p in pool]\n",
    "    \n",
    "    #select pool_size best policies\n",
    "    selected_indices = np.argsort(pool_scores)[-pool_size:]\n",
    "    pool = [pool[i] for i in selected_indices]\n",
    "    pool_scores = [pool_scores[i] for i in selected_indices]\n",
    "\n",
    "    #print the best policy so far (last in ascending score order)\n",
    "    print(\"best score:\", pool_scores[-1])"
   ]
  },
  {
   "cell_type": "markdown",
   "metadata": {},
   "source": [
    "Вроде и сходится, но не до конца. Видимо, здесь лучше использовать Qlearning."
   ]
  },
  {
   "cell_type": "code",
   "execution_count": null,
   "metadata": {
    "collapsed": true
   },
   "outputs": [],
   "source": []
  }
 ],
 "metadata": {
  "kernelspec": {
   "display_name": "Python 3",
   "language": "python",
   "name": "python3"
  },
  "language_info": {
   "codemirror_mode": {
    "name": "ipython",
    "version": 3
   },
   "file_extension": ".py",
   "mimetype": "text/x-python",
   "name": "python",
   "nbconvert_exporter": "python",
   "pygments_lexer": "ipython3",
   "version": "3.6.3"
  }
 },
 "nbformat": 4,
 "nbformat_minor": 1
}
