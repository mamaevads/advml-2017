{
 "cells": [
  {
   "cell_type": "markdown",
   "metadata": {},
   "source": [
    "<span style=\"font-size: 14pt\">MIPT, Advanced ML, Autumn 2017</span>\n",
    "\n",
    "<span style=\"font-size: 16pt\"> HW #10: Recommender Systems\n",
    "\n",
    "<span style=\"color:blue; font-size: 12pt\">Andrey Saitgalin </span>,\n",
    "<span style=\"color:blue; font-size: 12pt; font-family: 'Verdana'\"> andrey.saitgalin@gmail.com </span>"
   ]
  },
  {
   "cell_type": "markdown",
   "metadata": {},
   "source": [
    "<h1 align=\"center\">Organization Info</h1> \n",
    "\n",
    "* Дедлайн **18 декабря 23:59** для всех групп.\n",
    "* В качестве решения задания нужно прислать ноутбук с подробными комментариями (<span style='color:red'> без присланного решения результат контеста не будет засчитан </span>).\n",
    "* <span style='color:red'>Название команды в контесте должно соответствовать шаблону: НомерГруппы_Имя_Фамилия, например, 494_Ivan_Ivanov</span>."
   ]
  },
  {
   "cell_type": "markdown",
   "metadata": {},
   "source": [
    "**Оформление дз**: \n",
    "- Присылайте выполненное задание на почту ``ml.course.mipt@gmail.com``\n",
    "- Укажите тему письма в следующем формате ``ML2017_Aut_fall <номер_группы> <фамилия>``, к примеру -- ``ML2017_Aut_fall 401 ivanov``\n",
    "- Выполненное дз сохраните в файл ``<фамилия>_<группа>_task<номер>.ipnb``, к примеру -- ``ivanov_401_task10.ipnb``\n",
    "\n",
    "**Вопросы**:\n",
    "- Присылайте вопросы на почту ``ml.course.mipt@gmail.com``\n",
    "- Укажите тему письма в следующем формате ``ML2017_Aut_fall Question <Содержание вопроса>``\n",
    "\n",
    "\n",
    "--------\n",
    "- **PS1**: Мы используем автоматические фильтры, и просто не найдем ваше дз, если вы не аккуратно его подпишите.\n",
    "- **PS2**: Напоминаем, что дедлайны жесткие, письма пришедшие после автоматически удаляются =( чтобы соблазна не было."
   ]
  },
  {
   "cell_type": "markdown",
   "metadata": {},
   "source": [
    "<h1 align=\"center\">Contest (100%)</h1> \n",
    "* Ссылка на контест: https://www.kaggle.com/t/f37413eb448145acba822f3a8c43946d"
   ]
  },
  {
   "cell_type": "code",
   "execution_count": 1,
   "metadata": {
    "collapsed": true
   },
   "outputs": [],
   "source": [
    "import numpy as np\n",
    "import pandas as pd\n",
    "from scipy.sparse import coo_matrix, csr_matrix, csc_matrix\n",
    "import matplotlib.pyplot as plt\n",
    "import seaborn as sns\n",
    "from sklearn.metrics.pairwise import cosine_similarity\n",
    "\n",
    "%matplotlib inline"
   ]
  },
  {
   "cell_type": "code",
   "execution_count": 32,
   "metadata": {},
   "outputs": [
    {
     "name": "stdout",
     "output_type": "stream",
     "text": [
      "CPU times: user 9.2 s, sys: 1.08 s, total: 10.3 s\n",
      "Wall time: 11.5 s\n"
     ]
    }
   ],
   "source": [
    "%%time\n",
    "data = pd.read_csv(\"data/train.csv\")"
   ]
  },
  {
   "cell_type": "code",
   "execution_count": 33,
   "metadata": {},
   "outputs": [
    {
     "data": {
      "text/html": [
       "<div>\n",
       "<style scoped>\n",
       "    .dataframe tbody tr th:only-of-type {\n",
       "        vertical-align: middle;\n",
       "    }\n",
       "\n",
       "    .dataframe tbody tr th {\n",
       "        vertical-align: top;\n",
       "    }\n",
       "\n",
       "    .dataframe thead th {\n",
       "        text-align: right;\n",
       "    }\n",
       "</style>\n",
       "<table border=\"1\" class=\"dataframe\">\n",
       "  <thead>\n",
       "    <tr style=\"text-align: right;\">\n",
       "      <th></th>\n",
       "      <th>rating</th>\n",
       "      <th>movieId</th>\n",
       "      <th>userId</th>\n",
       "    </tr>\n",
       "  </thead>\n",
       "  <tbody>\n",
       "    <tr>\n",
       "      <th>3745862</th>\n",
       "      <td>1.0</td>\n",
       "      <td>5842</td>\n",
       "      <td>18394272129399934231</td>\n",
       "    </tr>\n",
       "    <tr>\n",
       "      <th>9720865</th>\n",
       "      <td>5.0</td>\n",
       "      <td>258</td>\n",
       "      <td>11906720390964836886</td>\n",
       "    </tr>\n",
       "    <tr>\n",
       "      <th>14469885</th>\n",
       "      <td>4.5</td>\n",
       "      <td>1257</td>\n",
       "      <td>2313269538057343768</td>\n",
       "    </tr>\n",
       "    <tr>\n",
       "      <th>4155146</th>\n",
       "      <td>5.0</td>\n",
       "      <td>6996</td>\n",
       "      <td>12781698973451016638</td>\n",
       "    </tr>\n",
       "    <tr>\n",
       "      <th>14797935</th>\n",
       "      <td>2.5</td>\n",
       "      <td>2615</td>\n",
       "      <td>6550472499606822267</td>\n",
       "    </tr>\n",
       "  </tbody>\n",
       "</table>\n",
       "</div>"
      ],
      "text/plain": [
       "          rating  movieId                userId\n",
       "3745862      1.0     5842  18394272129399934231\n",
       "9720865      5.0      258  11906720390964836886\n",
       "14469885     4.5     1257   2313269538057343768\n",
       "4155146      5.0     6996  12781698973451016638\n",
       "14797935     2.5     2615   6550472499606822267"
      ]
     },
     "execution_count": 33,
     "metadata": {},
     "output_type": "execute_result"
    }
   ],
   "source": [
    "data.sample(5)"
   ]
  },
  {
   "cell_type": "code",
   "execution_count": 4,
   "metadata": {},
   "outputs": [
    {
     "data": {
      "text/plain": [
       "9"
      ]
     },
     "execution_count": 4,
     "metadata": {},
     "output_type": "execute_result"
    }
   ],
   "source": [
    "data.groupby(\"userId\").size().min()"
   ]
  },
  {
   "cell_type": "markdown",
   "metadata": {},
   "source": [
    "Переопределим user_id"
   ]
  },
  {
   "cell_type": "code",
   "execution_count": 34,
   "metadata": {},
   "outputs": [
    {
     "name": "stdout",
     "output_type": "stream",
     "text": [
      "CPU times: user 7.04 s, sys: 931 ms, total: 7.97 s\n",
      "Wall time: 9.12 s\n"
     ]
    }
   ],
   "source": [
    "%%time\n",
    "old_user_id = [x for x in data[\"userId\"].sort_values().unique()]\n",
    "new_user_id = {}\n",
    "for index, value in enumerate(old_user_id, start=1):\n",
    "    new_user_id[int(value)] = index"
   ]
  },
  {
   "cell_type": "code",
   "execution_count": 35,
   "metadata": {
    "collapsed": true
   },
   "outputs": [],
   "source": [
    "assert len(index_to_user_id_mapping) == 138493"
   ]
  },
  {
   "cell_type": "code",
   "execution_count": 36,
   "metadata": {},
   "outputs": [
    {
     "name": "stdout",
     "output_type": "stream",
     "text": [
      "CPU times: user 1min 17s, sys: 36.4 s, total: 1min 54s\n",
      "Wall time: 2min 19s\n"
     ]
    }
   ],
   "source": [
    "%%time\n",
    "data = pd.DataFrame.from_records(\n",
    "    {\"movieId\": row.movieId, \"userId\": new_user_id[int(row.userId)], \"rating\": row.rating}\n",
    "    for row in data.itertuples())"
   ]
  },
  {
   "cell_type": "code",
   "execution_count": 9,
   "metadata": {},
   "outputs": [
    {
     "data": {
      "text/html": [
       "<div>\n",
       "<style scoped>\n",
       "    .dataframe tbody tr th:only-of-type {\n",
       "        vertical-align: middle;\n",
       "    }\n",
       "\n",
       "    .dataframe tbody tr th {\n",
       "        vertical-align: top;\n",
       "    }\n",
       "\n",
       "    .dataframe thead th {\n",
       "        text-align: right;\n",
       "    }\n",
       "</style>\n",
       "<table border=\"1\" class=\"dataframe\">\n",
       "  <thead>\n",
       "    <tr style=\"text-align: right;\">\n",
       "      <th></th>\n",
       "      <th>movieId</th>\n",
       "      <th>rating</th>\n",
       "      <th>userId</th>\n",
       "    </tr>\n",
       "  </thead>\n",
       "  <tbody>\n",
       "    <tr>\n",
       "      <th>0</th>\n",
       "      <td>2158</td>\n",
       "      <td>3.0</td>\n",
       "      <td>82143</td>\n",
       "    </tr>\n",
       "    <tr>\n",
       "      <th>1</th>\n",
       "      <td>12959</td>\n",
       "      <td>3.5</td>\n",
       "      <td>82143</td>\n",
       "    </tr>\n",
       "    <tr>\n",
       "      <th>2</th>\n",
       "      <td>7808</td>\n",
       "      <td>3.5</td>\n",
       "      <td>82143</td>\n",
       "    </tr>\n",
       "    <tr>\n",
       "      <th>3</th>\n",
       "      <td>9049</td>\n",
       "      <td>4.0</td>\n",
       "      <td>35749</td>\n",
       "    </tr>\n",
       "    <tr>\n",
       "      <th>4</th>\n",
       "      <td>12363</td>\n",
       "      <td>3.0</td>\n",
       "      <td>16069</td>\n",
       "    </tr>\n",
       "  </tbody>\n",
       "</table>\n",
       "</div>"
      ],
      "text/plain": [
       "   movieId  rating  userId\n",
       "0     2158     3.0   82143\n",
       "1    12959     3.5   82143\n",
       "2     7808     3.5   82143\n",
       "3     9049     4.0   35749\n",
       "4    12363     3.0   16069"
      ]
     },
     "execution_count": 9,
     "metadata": {},
     "output_type": "execute_result"
    }
   ],
   "source": [
    "data.head()"
   ]
  },
  {
   "cell_type": "code",
   "execution_count": 10,
   "metadata": {},
   "outputs": [
    {
     "data": {
      "text/plain": [
       "(0.5, 5.0)"
      ]
     },
     "execution_count": 10,
     "metadata": {},
     "output_type": "execute_result"
    }
   ],
   "source": [
    "data['rating'].min(), data['rating'].max()"
   ]
  },
  {
   "cell_type": "code",
   "execution_count": 11,
   "metadata": {
    "collapsed": true
   },
   "outputs": [],
   "source": [
    "data[[\"userId\", \"movieId\", \"rating\"]].to_csv(\"data/train_2.csv\", index=False)"
   ]
  },
  {
   "cell_type": "code",
   "execution_count": 12,
   "metadata": {
    "collapsed": true
   },
   "outputs": [],
   "source": [
    "data = pd.read_csv(\"data/train_2.csv\")"
   ]
  },
  {
   "cell_type": "markdown",
   "metadata": {},
   "source": [
    "Поделим на трейн и тест, выбрав 5 случайных фильмов для каждого юзера"
   ]
  },
  {
   "cell_type": "code",
   "execution_count": 13,
   "metadata": {
    "collapsed": true
   },
   "outputs": [],
   "source": [
    "data[\"random\"] = np.random.random(size=(data.shape[0], 1))\n",
    "idx = data.sort_values(by=\"random\") \\\n",
    "    .reset_index() \\\n",
    "    .groupby(\"userId\") \\\n",
    "    .head(n=5)[\"index\"]\n",
    "\n",
    "mask = data.index.isin(idx)\n",
    "train_data = data[~mask]\n",
    "test_data = data[mask]"
   ]
  },
  {
   "cell_type": "markdown",
   "metadata": {},
   "source": [
    "Преобразуем рейтинги обратной сигмоидой"
   ]
  },
  {
   "cell_type": "code",
   "execution_count": 16,
   "metadata": {
    "collapsed": true
   },
   "outputs": [],
   "source": [
    "EPS = 0.5\n",
    "\n",
    "def rating_to_score(z):\n",
    "    return -np.log((4.5 + 2 * EPS) / (z + EPS - 0.5)  - 1)\n",
    "\n",
    "def score_to_rating(z):\n",
    "    return 0.5 - EPS + (4.5 + 2 * EPS)  / (1 + np.exp(-z))"
   ]
  },
  {
   "cell_type": "code",
   "execution_count": 17,
   "metadata": {
    "collapsed": true
   },
   "outputs": [],
   "source": [
    "train_data['rating'] = rating_to_score(train_data['rating'])\n",
    "test_data['rating'] = rating_to_score(test_data['rating'])"
   ]
  },
  {
   "cell_type": "code",
   "execution_count": 18,
   "metadata": {
    "collapsed": true
   },
   "outputs": [],
   "source": [
    "train_data[[\"userId\", \"movieId\", \"rating\"]].to_csv(\"train_data_2.csv\", header=False, index=False)\n",
    "test_data[[\"userId\", \"movieId\", \"rating\"]].to_csv(\"test_data_2.csv\", header=False, index=False)"
   ]
  },
  {
   "cell_type": "code",
   "execution_count": 19,
   "metadata": {},
   "outputs": [
    {
     "name": "stdout",
     "output_type": "stream",
     "text": [
      "creating quadratic features for pairs: ui \n",
      "using l2 regularization = 0.001\n",
      "final_regressor = movielens.reg\n",
      "Num weight bits = 18\n",
      "learning rate = 0.015\n",
      "initial_t = 1\n",
      "power_t = 0\n",
      "decay_learning_rate = 0.97\n",
      "using cache_file = movielens.cache\n",
      "ignoring text input in favor of cache input\n",
      "num sources = 1\n",
      "average  since         example        example  current  current  current\n",
      "loss     last          counter         weight    label  predict features\n",
      "0.000000 0.000000            1            1.0   0.0000   0.0000       63\n",
      "0.000000 0.000000            2            2.0   0.0000   0.0000       63\n",
      "0.000000 0.000000            4            4.0   0.0000   0.0000       63\n",
      "0.000000 0.000000            8            8.0   0.0000   0.0000       63\n",
      "0.000000 0.000000           16           16.0   0.0000   0.0000       63\n",
      "0.000000 0.000000           32           32.0   0.0000   0.0000       63\n",
      "0.000000 0.000000           64           64.0   0.0000   0.0000       63\n",
      "0.000000 0.000000          128          128.0   0.0000   0.0000       63\n",
      "0.000000 0.000000          256          256.0   0.0000   0.0000       63\n",
      "0.000000 0.000000          512          512.0   0.0000   0.0000       63\n",
      "0.000000 0.000000         1024         1024.0   0.0000   0.0000       63\n",
      "0.000000 0.000000         2048         2048.0   0.0000   0.0000       63\n",
      "0.000000 0.000000         4096         4096.0   0.0000   0.0000       63\n",
      "0.000000 0.000000         8192         8192.0   0.0000   0.0000       63\n",
      "0.000000 0.000000        16384        16384.0   0.0000   0.0000       63\n",
      "0.000000 0.000000        32768        32768.0   0.0000   0.0000       63\n",
      "0.000000 0.000000        65536        65536.0   0.0000   0.0000       63\n",
      "0.000000 0.000000       131072       131072.0   0.0000   0.0000       63\n",
      "0.000000 0.000000       262144       262144.0   0.0000   0.0000       63\n",
      "0.000000 0.000000       524288       524288.0   0.0000   0.0000       63\n",
      "0.000000 0.000000      1048576      1048576.0   0.0000   0.0000       63\n",
      "0.000000 0.000000      2097152      2097152.0   0.0000   0.0000       63\n",
      "0.000000 0.000000      4194304      4194304.0   0.0000   0.0000       63\n",
      "0.000000 0.000000      8388608      8388608.0   0.0000   0.0000       63\n",
      "0.000000 0.000000     16777216     16777216.0   0.0000   0.0000       63 h\n",
      "0.000000 0.000000     33554432     33554432.0   0.0000   0.0000       63 h\n",
      "\n",
      "finished run\n",
      "number of examples per pass = 16489898\n",
      "passes used = 4\n",
      "weighted example sum = 65959592.000000\n",
      "weighted label sum = 0.000000\n",
      "average loss = 0.000000 h\n",
      "total feature number = 4155454296\n",
      "awk: write error on stdout\n",
      " input record number 3092, file \n",
      " source line number 1\n"
     ]
    }
   ],
   "source": [
    "!awk -F\",\" '{printf \"%f |u %d |i %d\\n\", $3,$1,$2}' < train_data_2.csv | \\\n",
    "  vw /dev/stdin -b 18 -q ui --rank 30 --l2 0.001 --learning_rate 0.015 \\\n",
    "    --passes 20 --decay_learning_rate 0.97 --power_t 0 \\\n",
    "    --loss_function squared -f movielens.reg --cache_file movielens.cache"
   ]
  },
  {
   "cell_type": "code",
   "execution_count": 20,
   "metadata": {},
   "outputs": [
    {
     "name": "stdout",
     "output_type": "stream",
     "text": [
      "creating quadratic features for pairs: ui \n",
      "only testing\n",
      "raw predictions = output_test\n",
      "Num weight bits = 18\n",
      "learning rate = 10\n",
      "initial_t = 1\n",
      "power_t = 0.5\n",
      "using no cache\n",
      "Reading datafile = /dev/stdin\n",
      "num sources = 1\n",
      "average  since         example        example  current  current  current\n",
      "loss     last          counter         weight    label  predict features\n",
      "2.262248 2.262248            1            1.0   1.5041   0.0000       63\n",
      "3.782072 5.301897            2            2.0   2.3026   0.0000       63\n",
      "2.372049 0.962026            4            4.0   0.9808   0.0000       63\n",
      "3.294489 4.216929            8            8.0   2.3026   0.0000       63\n",
      "2.035374 0.776259           16           16.0   0.9808   0.0000       63\n",
      "1.706083 1.376792           32           32.0   0.9808   0.0000       63\n",
      "1.483096 1.260109           64           64.0   0.1823   0.0000       63\n",
      "1.352603 1.222110          128          128.0   0.1823   0.0000       63\n",
      "1.238341 1.124079          256          256.0   0.1823   0.0000       63\n",
      "1.270951 1.303561          512          512.0   0.9808   0.0000       63\n",
      "1.308994 1.347036         1024         1024.0  -1.5041   0.0000       63\n",
      "1.409162 1.509330         2048         2048.0   0.9808   0.0000       63\n",
      "1.506986 1.604810         4096         4096.0   2.3026   0.0000       63\n",
      "1.515352 1.523719         8192         8192.0   0.9808   0.0000       63\n",
      "1.587547 1.659742        16384        16384.0   0.1823   0.0000       63\n",
      "1.634747 1.681948        32768        32768.0   0.1823   0.0000       63\n",
      "1.646153 1.657558        65536        65536.0   0.9808   0.0000       63\n",
      "1.656655 1.667157       131072       131072.0   0.1823   0.0000       63\n",
      "\n",
      "finished run\n",
      "number of examples per pass = 138493\n",
      "passes used = 1\n",
      "weighted example sum = 138493.000000\n",
      "weighted label sum = 108794.639936\n",
      "average loss = 1.655600\n",
      "best constant = 0.785561\n",
      "total feature number = 8725059\n"
     ]
    }
   ],
   "source": [
    "!awk -F\",\" '{printf \"%f |u %d |i %d\\n\", $3,$1,$2}' < data/test_data_2.csv | \\\n",
    "  vw /dev/stdin -i movielens.reg -t -r output_test"
   ]
  },
  {
   "cell_type": "code",
   "execution_count": 21,
   "metadata": {
    "collapsed": true
   },
   "outputs": [],
   "source": [
    "output_test_data = pd.read_csv(\"output_test\", header=None)"
   ]
  },
  {
   "cell_type": "code",
   "execution_count": 22,
   "metadata": {},
   "outputs": [
    {
     "data": {
      "text/plain": [
       "1.2538753452211862"
      ]
     },
     "execution_count": 22,
     "metadata": {},
     "output_type": "execute_result"
    }
   ],
   "source": [
    "from sklearn.metrics import mean_squared_error\n",
    "mean_squared_error(score_to_rating(output_test_data), score_to_rating(test_data['rating'])) ** 0.5"
   ]
  },
  {
   "cell_type": "markdown",
   "metadata": {},
   "source": [
    "Такой же результат получился на лидерборде"
   ]
  },
  {
   "cell_type": "markdown",
   "metadata": {
    "collapsed": true
   },
   "source": [
    "Очень хороший RMSE, должен побить то, что в контесте"
   ]
  },
  {
   "cell_type": "code",
   "execution_count": 23,
   "metadata": {
    "collapsed": true
   },
   "outputs": [],
   "source": [
    "result_test_data = pd.read_csv(\"data/test.csv\")\n",
    "result_test_data = pd.DataFrame.from_records(\n",
    "    {\"movieId\": row.movieId, \"userId\": user_id_to_index_mapping[int(row.userId)]}\n",
    "    for row in result_test_data.itertuples())"
   ]
  },
  {
   "cell_type": "code",
   "execution_count": 24,
   "metadata": {},
   "outputs": [
    {
     "data": {
      "text/html": [
       "<div>\n",
       "<style scoped>\n",
       "    .dataframe tbody tr th:only-of-type {\n",
       "        vertical-align: middle;\n",
       "    }\n",
       "\n",
       "    .dataframe tbody tr th {\n",
       "        vertical-align: top;\n",
       "    }\n",
       "\n",
       "    .dataframe thead th {\n",
       "        text-align: right;\n",
       "    }\n",
       "</style>\n",
       "<table border=\"1\" class=\"dataframe\">\n",
       "  <thead>\n",
       "    <tr style=\"text-align: right;\">\n",
       "      <th></th>\n",
       "      <th>movieId</th>\n",
       "      <th>userId</th>\n",
       "    </tr>\n",
       "  </thead>\n",
       "  <tbody>\n",
       "    <tr>\n",
       "      <th>0</th>\n",
       "      <td>939</td>\n",
       "      <td>23726</td>\n",
       "    </tr>\n",
       "    <tr>\n",
       "      <th>1</th>\n",
       "      <td>19</td>\n",
       "      <td>45416</td>\n",
       "    </tr>\n",
       "    <tr>\n",
       "      <th>2</th>\n",
       "      <td>1213</td>\n",
       "      <td>21152</td>\n",
       "    </tr>\n",
       "    <tr>\n",
       "      <th>3</th>\n",
       "      <td>1141</td>\n",
       "      <td>106470</td>\n",
       "    </tr>\n",
       "    <tr>\n",
       "      <th>4</th>\n",
       "      <td>2935</td>\n",
       "      <td>44653</td>\n",
       "    </tr>\n",
       "  </tbody>\n",
       "</table>\n",
       "</div>"
      ],
      "text/plain": [
       "   movieId  userId\n",
       "0      939   23726\n",
       "1       19   45416\n",
       "2     1213   21152\n",
       "3     1141  106470\n",
       "4     2935   44653"
      ]
     },
     "execution_count": 24,
     "metadata": {},
     "output_type": "execute_result"
    }
   ],
   "source": [
    "result_test_data.head()"
   ]
  },
  {
   "cell_type": "code",
   "execution_count": 25,
   "metadata": {
    "collapsed": true
   },
   "outputs": [],
   "source": [
    "result_test_data[[\"userId\", \"movieId\"]].to_csv(\"result_test_data.csv\", header=False, index=False)"
   ]
  },
  {
   "cell_type": "code",
   "execution_count": 26,
   "metadata": {},
   "outputs": [
    {
     "name": "stdout",
     "output_type": "stream",
     "text": [
      "creating quadratic features for pairs: ui \n",
      "only testing\n",
      "raw predictions = result.csv\n",
      "Num weight bits = 18\n",
      "learning rate = 10\n",
      "initial_t = 1\n",
      "power_t = 0.5\n",
      "using no cache\n",
      "Reading datafile = /dev/stdin\n",
      "num sources = 1\n",
      "average  since         example        example  current  current  current\n",
      "loss     last          counter         weight    label  predict features\n",
      "0.000000 0.000000            1            1.0   0.0000   0.0000       63\n",
      "0.000000 0.000000            2            2.0   0.0000   0.0000       63\n",
      "0.000000 0.000000            4            4.0   0.0000   0.0000       63\n",
      "0.000000 0.000000            8            8.0   0.0000   0.0000       63\n",
      "0.000000 0.000000           16           16.0   0.0000   0.0000       63\n",
      "0.000000 0.000000           32           32.0   0.0000   0.0000       63\n",
      "0.000000 0.000000           64           64.0   0.0000   0.0000       63\n",
      "0.000000 0.000000          128          128.0   0.0000   0.0000       63\n",
      "0.000000 0.000000          256          256.0   0.0000   0.0000       63\n",
      "0.000000 0.000000          512          512.0   0.0000   0.0000       63\n",
      "0.000000 0.000000         1024         1024.0   0.0000   0.0000       63\n",
      "0.000000 0.000000         2048         2048.0   0.0000   0.0000       63\n",
      "0.000000 0.000000         4096         4096.0   0.0000   0.0000       63\n",
      "0.000000 0.000000         8192         8192.0   0.0000   0.0000       63\n",
      "0.000000 0.000000        16384        16384.0   0.0000   0.0000       63\n",
      "0.000000 0.000000        32768        32768.0   0.0000   0.0000       63\n",
      "0.000000 0.000000        65536        65536.0   0.0000   0.0000       63\n",
      "0.000000 0.000000       131072       131072.0   0.0000   0.0000       63\n",
      "0.000000 0.000000       262144       262144.0   0.0000   0.0000       63\n",
      "0.000000 0.000000       524288       524288.0   0.0000   0.0000       63\n",
      "\n",
      "finished run\n",
      "number of examples per pass = 969451\n",
      "passes used = 1\n",
      "weighted example sum = 969451.000000\n",
      "weighted label sum = 0.000000\n",
      "average loss = 0.000000\n",
      "total feature number = 61075413\n"
     ]
    }
   ],
   "source": [
    "!awk -F\",\" '{printf \"0 |u %d |i %d\\n\", $1,$2}' < data/result_test_data.csv | \\\n",
    "  vw /dev/stdin -i movielens.reg -t -r result.csv"
   ]
  },
  {
   "cell_type": "code",
   "execution_count": 27,
   "metadata": {
    "collapsed": true
   },
   "outputs": [],
   "source": [
    "result = pd.read_csv(\"result.csv\", header=None)"
   ]
  },
  {
   "cell_type": "code",
   "execution_count": 69,
   "metadata": {
    "collapsed": true
   },
   "outputs": [],
   "source": [
    "solution[['Id', 'rating']].to_csv(\"solution.csv\", index=None)"
   ]
  }
 ],
 "metadata": {
  "kernelspec": {
   "display_name": "Python 3",
   "language": "python",
   "name": "python3"
  },
  "language_info": {
   "codemirror_mode": {
    "name": "ipython",
    "version": 3
   },
   "file_extension": ".py",
   "mimetype": "text/x-python",
   "name": "python",
   "nbconvert_exporter": "python",
   "pygments_lexer": "ipython3",
   "version": "3.6.3"
  }
 },
 "nbformat": 4,
 "nbformat_minor": 1
}
