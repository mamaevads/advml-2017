{
 "cells": [
  {
   "cell_type": "code",
   "execution_count": 52,
   "metadata": {
    "collapsed": true
   },
   "outputs": [],
   "source": [
    "import json\n",
    "import sklearn\n",
    "import numpy as np\n",
    "import os\n",
    "import pandas as pd\n",
    "from collections import defaultdict\n",
    "from sklearn.feature_extraction.text import CountVectorizer, TfidfVectorizer\n",
    "from sklearn.metrics.pairwise import cosine_similarity"
   ]
  },
  {
   "cell_type": "code",
   "execution_count": 53,
   "metadata": {
    "collapsed": true
   },
   "outputs": [],
   "source": [
    "i = 1\n",
    "cur_text = ''\n",
    "all_texts = []\n",
    "with open('Documents.csv', 'r') as f_in:\n",
    "    lines = f_in.readlines() \n",
    "\n",
    "for line in lines:\n",
    "    if line == '.Id %d\\n' % i:\n",
    "        all_texts.append(cur_text)\n",
    "        cur_text = ''\n",
    "        i += 1\n",
    "    else:\n",
    "        cur_text += line\n",
    "all_texts.append(cur_text)\n",
    "\n",
    "with open('queries.csv', 'r') as f_in:\n",
    "    lines = f_in.readlines()\n",
    "\n",
    "lines = lines[1:-1]\n",
    "from_id_to_query = {\n",
    "    int(line.split('\\t', 1)[0]): line.split('\\t', 1)[1] for line in lines\n",
    "}\n",
    "\n",
    "with open('relevance_test.csv', 'r') as f_in:\n",
    "    lines = f_in.readlines()\n",
    "lines = lines[1:]\n",
    "queries = defaultdict(list)\n",
    "for line in lines:\n",
    "    line = line.strip()\n",
    "    queries[int(line.split(',')[0])].append(int(line.split(',')[1]))"
   ]
  },
  {
   "cell_type": "code",
   "execution_count": 54,
   "metadata": {},
   "outputs": [],
   "source": [
    "tfidf = TfidfVectorizer(min_df=1, stop_words='english', analyzer='word', ngram_range=(1,2))"
   ]
  },
  {
   "cell_type": "code",
   "execution_count": 55,
   "metadata": {},
   "outputs": [
    {
     "data": {
      "text/plain": [
       "<1400x94120 sparse matrix of type '<class 'numpy.float64'>'\n",
       "\twith 212855 stored elements in Compressed Sparse Row format>"
      ]
     },
     "execution_count": 55,
     "metadata": {},
     "output_type": "execute_result"
    }
   ],
   "source": [
    "tfidf.fit_transform(all_texts[1:])"
   ]
  },
  {
   "cell_type": "code",
   "execution_count": 56,
   "metadata": {
    "collapsed": true
   },
   "outputs": [],
   "source": [
    "ttov = [tfidf.transform([some_text]) for some_text in all_texts]"
   ]
  },
  {
   "cell_type": "code",
   "execution_count": 57,
   "metadata": {},
   "outputs": [
    {
     "data": {
      "text/plain": [
       "<1x94120 sparse matrix of type '<class 'numpy.float64'>'\n",
       "\twith 0 stored elements in Compressed Sparse Row format>"
      ]
     },
     "execution_count": 57,
     "metadata": {},
     "output_type": "execute_result"
    }
   ],
   "source": [
    "ttov[0]"
   ]
  },
  {
   "cell_type": "code",
   "execution_count": 59,
   "metadata": {
    "scrolled": true
   },
   "outputs": [
    {
     "name": "stdout",
     "output_type": "stream",
     "text": [
      "127\n",
      "129\n",
      "134\n",
      "144\n",
      "151\n",
      "159\n",
      "162\n",
      "166\n",
      "172\n",
      "174\n",
      "178\n",
      "179\n",
      "180\n",
      "185\n",
      "186\n",
      "188\n",
      "191\n",
      "192\n",
      "193\n",
      "194\n",
      "195\n",
      "197\n",
      "198\n",
      "199\n",
      "207\n",
      "220\n",
      "221\n",
      "222\n"
     ]
    }
   ],
   "source": [
    "with open('results.csv', 'w') as f_out:\n",
    "    f_out.write('QueryId,DocumentId\\n')\n",
    "    for k, v in queries.items():\n",
    "        if k not in from_id_to_query:\n",
    "            print(k)\n",
    "            for _v in v:\n",
    "                f_out.write(str(k) + ',' + str(_v) + '\\n')\n",
    "            continue\n",
    "        k_vec = tfidf.transform([from_id_to_query[k]]).toarray()\n",
    "        v = sorted(v, key=lambda x: cosine_similarity(ttov[x], k_vec), reverse=True)\n",
    "        for _v in v:\n",
    "                f_out.write(str(k) + ',' + str(_v) + '\\n')\n",
    "        "
   ]
  },
  {
   "cell_type": "markdown",
   "metadata": {},
   "source": [
    "Private Score 0.54791\n",
    "Public Score 0.52008"
   ]
  },
  {
   "cell_type": "code",
   "execution_count": null,
   "metadata": {
    "collapsed": true
   },
   "outputs": [],
   "source": []
  }
 ],
 "metadata": {
  "kernelspec": {
   "display_name": "Python 3",
   "language": "python",
   "name": "python3"
  },
  "language_info": {
   "codemirror_mode": {
    "name": "ipython",
    "version": 3
   },
   "file_extension": ".py",
   "mimetype": "text/x-python",
   "name": "python",
   "nbconvert_exporter": "python",
   "pygments_lexer": "ipython3",
   "version": "3.6.3"
  }
 },
 "nbformat": 4,
 "nbformat_minor": 2
}
